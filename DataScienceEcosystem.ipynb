{
 "cells": [
  {
   "cell_type": "markdown",
   "id": "e21e100f-3a88-4679-87f0-319c36132124",
   "metadata": {},
   "source": [
    "# Data Science Tools and Ecosystem"
   ]
  },
  {
   "cell_type": "markdown",
   "id": "7f55e797-d978-44d4-b685-3b0027030753",
   "metadata": {},
   "source": [
    "In this notebook, Data Science Tools and Ecosystem are summarized."
   ]
  },
  {
   "cell_type": "markdown",
   "id": "e556cd66-e6e4-40a3-bba4-e09173112171",
   "metadata": {},
   "source": [
    "**Objectives:**\n",
    "- List popular languages for Data Science\n",
    "- List commonly used libraries for Data Science\n",
    "- Introduce Data Science Tools\n",
    "- Demonstrate basic arithmetic operations in Python"
   ]
  },
  {
   "cell_type": "markdown",
   "id": "45f9bf51-b987-4868-a1d7-d7991f781b75",
   "metadata": {},
   "source": [
    "Some of the popular languages that Data Scientists use are:\n",
    "1. Python\n",
    "2. R\n",
    "3. SQL"
   ]
  },
  {
   "cell_type": "markdown",
   "id": "104bd17b-29c6-41f0-aa5b-590b4c7127a8",
   "metadata": {},
   "source": [
    "Some of the commonly used libraries used by Data Scientists include:\n",
    "1. Pandas\n",
    "2. NumPy\n",
    "3. Matplotlib"
   ]
  },
  {
   "cell_type": "markdown",
   "id": "b77f871b-04a2-4c6e-87ad-812fa5c75fc9",
   "metadata": {},
   "source": [
    "| Data Science Tools |\n",
    "|--------------------|\n",
    "| Jupyter Notebook   |\n",
    "| RStudio            |\n",
    "| Spyder             |"
   ]
  },
  {
   "cell_type": "markdown",
   "id": "143a75a9-63e7-4804-820f-dbf14939ff65",
   "metadata": {},
   "source": [
    "### Below are a few examples of evaluating arithmetic expressions in Python."
   ]
  },
  {
   "cell_type": "code",
   "execution_count": 40,
   "id": "f5001a49-4182-41a5-936d-3f31c025c4f9",
   "metadata": {},
   "outputs": [
    {
     "data": {
      "text/plain": [
       "17"
      ]
     },
     "execution_count": 40,
     "metadata": {},
     "output_type": "execute_result"
    }
   ],
   "source": [
    "# This a simple arithmetic expression to multiply then add integers\n",
    "(3*4)+5"
   ]
  },
  {
   "cell_type": "code",
   "execution_count": 42,
   "id": "eb3c5706-0298-4950-989f-28dd3bbeb4d8",
   "metadata": {},
   "outputs": [
    {
     "data": {
      "text/plain": [
       "3.3333333333333335"
      ]
     },
     "execution_count": 42,
     "metadata": {},
     "output_type": "execute_result"
    }
   ],
   "source": [
    "# This will convert 200 minutes to hours by dividing by 60\n",
    "200 / 60"
   ]
  },
  {
   "cell_type": "markdown",
   "id": "09c8c4be-19e7-45dc-a1cc-d29cfe69154e",
   "metadata": {},
   "source": [
    "## Author\n",
    "Jesven Gomes"
   ]
  },
  {
   "cell_type": "code",
   "execution_count": null,
   "id": "69697c4a-8e95-40d6-99e9-1cd38652f55b",
   "metadata": {},
   "outputs": [],
   "source": []
  }
 ],
 "metadata": {
  "kernelspec": {
   "display_name": "Python 3 (ipykernel)",
   "language": "python",
   "name": "python3"
  },
  "language_info": {
   "codemirror_mode": {
    "name": "ipython",
    "version": 3
   },
   "file_extension": ".py",
   "mimetype": "text/x-python",
   "name": "python",
   "nbconvert_exporter": "python",
   "pygments_lexer": "ipython3",
   "version": "3.12.4"
  }
 },
 "nbformat": 4,
 "nbformat_minor": 5
}
